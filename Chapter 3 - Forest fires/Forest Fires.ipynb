{
 "cells": [
  {
   "cell_type": "code",
   "execution_count": 1,
   "metadata": {
    "scrolled": false
   },
   "outputs": [
    {
     "ename": "TclError",
     "evalue": "invalid command name \".!scale\"",
     "output_type": "error",
     "traceback": [
      "\u001b[1;31m---------------------------------------------------------------------------\u001b[0m",
      "\u001b[1;31mTclError\u001b[0m                                  Traceback (most recent call last)",
      "\u001b[1;32m<ipython-input-1-487adf6b8bec>\u001b[0m in \u001b[0;36m<module>\u001b[1;34m\u001b[0m\n\u001b[0;32m     34\u001b[0m \u001b[1;32mwhile\u001b[0m \u001b[1;32mTrue\u001b[0m\u001b[1;33m:\u001b[0m\u001b[1;33m\u001b[0m\u001b[1;33m\u001b[0m\u001b[0m\n\u001b[0;32m     35\u001b[0m \u001b[1;33m\u001b[0m\u001b[0m\n\u001b[1;32m---> 36\u001b[1;33m     \u001b[0mR\u001b[0m \u001b[1;33m=\u001b[0m \u001b[0mgrowth\u001b[0m\u001b[1;33m.\u001b[0m\u001b[0mget\u001b[0m\u001b[1;33m(\u001b[0m\u001b[1;33m)\u001b[0m               \u001b[1;31m# get growth rate from GUI\u001b[0m\u001b[1;33m\u001b[0m\u001b[1;33m\u001b[0m\u001b[0m\n\u001b[0m\u001b[0;32m     37\u001b[0m     \u001b[0mLP\u001b[0m \u001b[1;33m=\u001b[0m \u001b[0mp_lightning\u001b[0m\u001b[1;33m.\u001b[0m\u001b[0mget\u001b[0m\u001b[1;33m(\u001b[0m\u001b[1;33m)\u001b[0m         \u001b[1;31m# get lightning probability from GUI\u001b[0m\u001b[1;33m\u001b[0m\u001b[1;33m\u001b[0m\u001b[0m\n\u001b[0;32m     38\u001b[0m \u001b[1;33m\u001b[0m\u001b[0m\n",
      "\u001b[1;32m~\\Anaconda3\\lib\\tkinter\\__init__.py\u001b[0m in \u001b[0;36mget\u001b[1;34m(self)\u001b[0m\n\u001b[0;32m   3011\u001b[0m     \u001b[1;32mdef\u001b[0m \u001b[0mget\u001b[0m\u001b[1;33m(\u001b[0m\u001b[0mself\u001b[0m\u001b[1;33m)\u001b[0m\u001b[1;33m:\u001b[0m\u001b[1;33m\u001b[0m\u001b[1;33m\u001b[0m\u001b[0m\n\u001b[0;32m   3012\u001b[0m         \u001b[1;34m\"\"\"Get the current value as integer or float.\"\"\"\u001b[0m\u001b[1;33m\u001b[0m\u001b[1;33m\u001b[0m\u001b[0m\n\u001b[1;32m-> 3013\u001b[1;33m         \u001b[0mvalue\u001b[0m \u001b[1;33m=\u001b[0m \u001b[0mself\u001b[0m\u001b[1;33m.\u001b[0m\u001b[0mtk\u001b[0m\u001b[1;33m.\u001b[0m\u001b[0mcall\u001b[0m\u001b[1;33m(\u001b[0m\u001b[0mself\u001b[0m\u001b[1;33m.\u001b[0m\u001b[0m_w\u001b[0m\u001b[1;33m,\u001b[0m \u001b[1;34m'get'\u001b[0m\u001b[1;33m)\u001b[0m\u001b[1;33m\u001b[0m\u001b[1;33m\u001b[0m\u001b[0m\n\u001b[0m\u001b[0;32m   3014\u001b[0m         \u001b[1;32mtry\u001b[0m\u001b[1;33m:\u001b[0m\u001b[1;33m\u001b[0m\u001b[1;33m\u001b[0m\u001b[0m\n\u001b[0;32m   3015\u001b[0m             \u001b[1;32mreturn\u001b[0m \u001b[0mself\u001b[0m\u001b[1;33m.\u001b[0m\u001b[0mtk\u001b[0m\u001b[1;33m.\u001b[0m\u001b[0mgetint\u001b[0m\u001b[1;33m(\u001b[0m\u001b[0mvalue\u001b[0m\u001b[1;33m)\u001b[0m\u001b[1;33m\u001b[0m\u001b[1;33m\u001b[0m\u001b[0m\n",
      "\u001b[1;31mTclError\u001b[0m: invalid command name \".!scale\""
     ]
    }
   ],
   "source": [
    "import numpy as np \n",
    "from tkinter import *\n",
    "from PIL import Image\n",
    "from PIL import ImageTk as itk\n",
    "import time\n",
    "\n",
    "res = 500   # Animation resolution\n",
    "tk = Tk()  \n",
    "tk.geometry( str(int(res*1.1)) + 'x'  +  str(int(res*1.3)) )\n",
    "tk.configure(background='white')\n",
    "\n",
    "canvas = Canvas(tk, bd=2)            # Generate animation window \n",
    "tk.attributes('-topmost', 0)\n",
    "canvas.place(x=res/20, y=res/20, height= res, width= res)\n",
    "ccolor = ['#0008FF', '#DB0000', '#12F200']\n",
    "\n",
    "growth = Scale(tk, from_=0, to=0.03, orient=HORIZONTAL, label='Growth probability', font=(\"Helvetica\", 8),resolution=0.001)\n",
    "growth.place(relx=.12, rely=.85, relheight= 0.12, relwidth= 0.33)     \n",
    "growth.set(0.005)            # Parameter slider for growth rate                                                       \n",
    "\n",
    "p_lightning = Scale(tk, from_=0, to=1, orient=HORIZONTAL, label='Lightning rate', font=(\"Helvetica\", 8) ,resolution=0.01)\n",
    "p_lightning.place(relx=.57, rely=.85, relheight= 0.12, relwidth= 0.33)\n",
    "p_lightning.set(0.9)          # Parameter slider for lightning rate\n",
    "\n",
    "\n",
    "# Parameters of the simulation\n",
    "l = 200     # Lattice size\n",
    "\n",
    "# Physical parameters of the system \n",
    "S = np.zeros((l,l))                     # Status array, 0: No trees, 1: Trees 2: Burned  3: Expanding fire  \n",
    "forest_image = np.zeros((l,l,3))        # Image array for the forest\n",
    "fire_count = 0                          # Number of fire events\n",
    "\n",
    "while True:\n",
    "    \n",
    "    R = growth.get()               # get growth rate from GUI\n",
    "    LP = p_lightning.get()         # get lightning probability from GUI\n",
    "    \n",
    "    S[( np.random.rand(l,l)<R ) & (S==0) ] = 1                # Apply tree growth with the corresponding probability\n",
    "    lightning_location = (np.random.rand(2)*l).astype(int)    # Randomly select a lightning location   \n",
    "    if (S[lightning_location[0],lightning_location[1]] == 1) and (np.random.rand()<LP):    # If lightning falls on a tree\n",
    "        fire_count += 1                                                       # Fire event\n",
    "        S[lightning_location[0],lightning_location[1]] = 3                    # Start expanding fire\n",
    "        while sum(sum(S==3))>0:                                               # fire expansion loop\n",
    "            for i,j in zip(np.where(S==3)[0],np.where(S==3)[1]):              # loop over expanding nodes\n",
    "                if S[min(i+1,l-1),j] == 1:                                    # check expansion to the right\n",
    "                    S[min(i+1,l-1),j] = 3\n",
    "                if S[max(i-1,0),j] == 1:                                      # check expansion to the left\n",
    "                    S[max(i-1,0),j] = 3\n",
    "                if S[i,min(j+1,l-1)] == 1:                                    # check expansion upwards   \n",
    "                    S[i,min(j+1,l-1)] = 3\n",
    "                if S[i,max(j-1,0)] == 1:                                      # check expansion downwards\n",
    "                    S[i,max(j-1,0)] = 3\n",
    "                S[i,j] = 2                                                    # previous expansion node burned   \n",
    "        \n",
    "          \n",
    "    forest_image[:,:,:] = 0                               # Create image object for the forest, background black\n",
    "    forest_image[:,:,0] =   (S == 2)*255                  # Burned trees are red\n",
    "    forest_image[:,:,1] =   (S == 1)*255                  # Grown trees are green\n",
    "    img = itk.PhotoImage(Image.fromarray(np.uint8(forest_image),'RGB').resize((res,res)))\n",
    "    canvas.create_image(0,0, anchor=NW, image=img) \n",
    "    tk.title('Fires:' + str(fire_count))\n",
    "    tk.update()\n",
    "    if sum(sum(S==2))>0:\n",
    "        time.sleep(0.05)\n",
    "    \n",
    "    S[S==2] = 0                                           # Burned trees will go back to status 0 (no trees)\n",
    "    \n",
    "Tk.mainloop(canvas)                                     # Release animation handle (close window to finish)"
   ]
  }
 ],
 "metadata": {
  "kernelspec": {
   "display_name": "Python 3",
   "language": "python",
   "name": "python3"
  },
  "language_info": {
   "codemirror_mode": {
    "name": "ipython",
    "version": 3
   },
   "file_extension": ".py",
   "mimetype": "text/x-python",
   "name": "python",
   "nbconvert_exporter": "python",
   "pygments_lexer": "ipython3",
   "version": "3.7.9"
  }
 },
 "nbformat": 4,
 "nbformat_minor": 2
}
