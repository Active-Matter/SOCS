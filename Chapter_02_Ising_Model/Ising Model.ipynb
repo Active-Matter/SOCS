{
 "cells": [
  {
   "cell_type": "code",
   "execution_count": null,
   "metadata": {},
   "outputs": [],
   "source": [
    "import numpy as np \n",
    "from tkinter import *\n",
    "from PIL import Image\n",
    "from PIL import ImageTk as itk\n",
    "import time\n",
    "\n",
    "res = 500   # Animation resolution\n",
    "tk = Tk()  \n",
    "tk.geometry( str(int(res*1.1)) + 'x'  +  str(int(res*1.3)) )\n",
    "tk.configure(background='white')\n",
    "\n",
    "canvas = Canvas(tk, bd=2)            # Generate animation window \n",
    "tk.attributes('-topmost', 0)\n",
    "canvas.place(x=res/20, y=res/20, height= res, width= res)\n",
    "ccolor = ['#0008FF', '#DB0000', '#12F200']\n",
    "\n",
    "temperature = Scale(tk, from_=0.01, to=10, orient=HORIZONTAL, label='Temperature', font=(\"Helvetica\", 8),resolution=0.01)\n",
    "temperature.place(relx=.12, rely=.85, relheight= 0.12, relwidth= 0.33)     \n",
    "temperature.set(1)            # Parameter slider for temperature                                                    \n",
    "\n",
    "mag = Scale(tk, from_=-1, to=1, orient=HORIZONTAL, label='Magnetic field', font=(\"Helvetica\", 8) ,resolution=0.01)\n",
    "mag.place(relx=.57, rely=.85, relheight= 0.12, relwidth= 0.33)\n",
    "mag.set(0)          # Parameter slider for external magnetic field\n",
    "\n",
    "\n",
    "# Decide on the parameters\n",
    "l = 100\n",
    "J = 1       # Neighbor interaction [k_BT/unit spin] \n",
    "\n",
    "# Initialize the lattice\n",
    "S = np.sign(np.random.rand(l,l) - 0.5)\n",
    "ferromagnet_image = np.zeros((l,l,3))  \n",
    "t = 0 \n",
    "while True: \n",
    "    T = temperature.get()                       # Read adjusted temperature from the slider\n",
    "    H = mag.get()                               # Read adjusted temperature from the slider\n",
    "    i = np.random.randint(0,l,int(l*l/10))      # The rows of the elements that will be iterated\n",
    "    j = np.random.randint(0,l,int(l*l/10))      # The columns of the elements that will be iterated\n",
    "    E = (-J * ( S[i-1,j] + S[(i+1)%l,j] + S[i,j-1] + S[i,(j+1)%l] ) - H)/T     # The energy of a plus spin\n",
    "    S[i,j] =  (( np.random.rand(int(l*l/10)) < np.exp(-E)/(np.exp(-E)+np.exp(E)) ) -0.5) * 2   # Monte Carlo algorithm \n",
    "\n",
    "    ferromagnet_image[:,:,:] = 0                                                   \n",
    "    ferromagnet_image[:,:,0] =   (S == -1)*255               \n",
    "    ferromagnet_image[:,:,1] =   (S == -1)*255                  \n",
    "    ferromagnet_image[:,:,2] =   (S == 1)*255 \n",
    "    t += 1\n",
    "    \n",
    "    img = itk.PhotoImage(Image.fromarray(np.uint8(ferromagnet_image),'RGB').resize((res,res)))\n",
    "    canvas.create_image(0,0, anchor=NW, image=img) \n",
    "    tk.title('time'+ str(t) + '   Magnetization:' + str(np.mean(S)))\n",
    "    tk.update()\n",
    "\n",
    "Tk.mainloop(canvas)    "
   ]
  }
 ],
 "metadata": {
  "kernelspec": {
   "display_name": "Python 3",
   "language": "python",
   "name": "python3"
  },
  "language_info": {
   "codemirror_mode": {
    "name": "ipython",
    "version": 3
   },
   "file_extension": ".py",
   "mimetype": "text/x-python",
   "name": "python",
   "nbconvert_exporter": "python",
   "pygments_lexer": "ipython3",
   "version": "3.6.5"
  }
 },
 "nbformat": 4,
 "nbformat_minor": 4
}
