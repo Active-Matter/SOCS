{
 "cells": [
  {
   "cell_type": "code",
   "execution_count": 26,
   "metadata": {},
   "outputs": [
    {
     "ename": "IndexError",
     "evalue": "index 10005 is out of bounds for axis 1 with size 10005",
     "output_type": "error",
     "traceback": [
      "\u001b[1;31m---------------------------------------------------------------------------\u001b[0m",
      "\u001b[1;31mIndexError\u001b[0m                                Traceback (most recent call last)",
      "\u001b[1;32m<ipython-input-26-898ed1f4ba73>\u001b[0m in \u001b[0;36m<module>\u001b[1;34m\u001b[0m\n\u001b[0;32m     54\u001b[0m     \u001b[1;32melse\u001b[0m\u001b[1;33m:\u001b[0m\u001b[1;33m\u001b[0m\u001b[1;33m\u001b[0m\u001b[0m\n\u001b[0;32m     55\u001b[0m         \u001b[0mV\u001b[0m \u001b[1;33m=\u001b[0m \u001b[0mVinf\u001b[0m \u001b[1;33m+\u001b[0m \u001b[1;33m(\u001b[0m\u001b[0mV0\u001b[0m\u001b[1;33m-\u001b[0m\u001b[0mVinf\u001b[0m\u001b[1;33m)\u001b[0m\u001b[1;33m*\u001b[0m\u001b[0mnp\u001b[0m\u001b[1;33m.\u001b[0m\u001b[0mexp\u001b[0m\u001b[1;33m(\u001b[0m\u001b[1;33m-\u001b[0m\u001b[1;33m(\u001b[0m\u001b[0mI\u001b[0m\u001b[1;33m[\u001b[0m\u001b[1;33m:\u001b[0m\u001b[1;33m,\u001b[0m\u001b[0mi\u001b[0m\u001b[1;33m]\u001b[0m\u001b[1;33m-\u001b[0m\u001b[0mdelta\u001b[0m\u001b[1;33m*\u001b[0m\u001b[1;33m(\u001b[0m\u001b[0mI\u001b[0m\u001b[1;33m[\u001b[0m\u001b[1;33m:\u001b[0m\u001b[1;33m,\u001b[0m\u001b[0mi\u001b[0m\u001b[1;33m]\u001b[0m\u001b[1;33m-\u001b[0m\u001b[0mI\u001b[0m\u001b[1;33m[\u001b[0m\u001b[1;33m:\u001b[0m\u001b[1;33m,\u001b[0m\u001b[0mi\u001b[0m\u001b[1;33m-\u001b[0m\u001b[1;36m1\u001b[0m\u001b[1;33m]\u001b[0m\u001b[1;33m)\u001b[0m\u001b[1;33m)\u001b[0m\u001b[1;33m)\u001b[0m\u001b[1;33m\u001b[0m\u001b[1;33m\u001b[0m\u001b[0m\n\u001b[1;32m---> 56\u001b[1;33m     \u001b[0mx\u001b[0m\u001b[1;33m[\u001b[0m\u001b[1;33m:\u001b[0m\u001b[1;33m,\u001b[0m\u001b[0mi\u001b[0m\u001b[1;33m+\u001b[0m\u001b[1;36m1\u001b[0m\u001b[1;33m]\u001b[0m \u001b[1;33m=\u001b[0m \u001b[1;33m(\u001b[0m\u001b[0mx\u001b[0m\u001b[1;33m[\u001b[0m\u001b[1;33m:\u001b[0m\u001b[1;33m,\u001b[0m\u001b[0mi\u001b[0m\u001b[1;33m]\u001b[0m \u001b[1;33m+\u001b[0m \u001b[0mV\u001b[0m\u001b[1;33m*\u001b[0m\u001b[0mnp\u001b[0m\u001b[1;33m.\u001b[0m\u001b[0mcos\u001b[0m\u001b[1;33m(\u001b[0m\u001b[0mtheta\u001b[0m\u001b[1;33m[\u001b[0m\u001b[1;33m:\u001b[0m\u001b[1;33m,\u001b[0m\u001b[0mi\u001b[0m\u001b[1;33m]\u001b[0m\u001b[1;33m)\u001b[0m\u001b[1;33m*\u001b[0m\u001b[0mdt\u001b[0m \u001b[1;33m+\u001b[0m\u001b[0ml\u001b[0m\u001b[1;33m)\u001b[0m \u001b[1;33m%\u001b[0m \u001b[1;33m(\u001b[0m\u001b[1;36m2\u001b[0m\u001b[1;33m*\u001b[0m\u001b[0ml\u001b[0m\u001b[1;33m)\u001b[0m \u001b[1;33m-\u001b[0m \u001b[0ml\u001b[0m\u001b[1;33m\u001b[0m\u001b[1;33m\u001b[0m\u001b[0m\n\u001b[0m\u001b[0;32m     57\u001b[0m     \u001b[0my\u001b[0m\u001b[1;33m[\u001b[0m\u001b[1;33m:\u001b[0m\u001b[1;33m,\u001b[0m\u001b[0mi\u001b[0m\u001b[1;33m+\u001b[0m\u001b[1;36m1\u001b[0m\u001b[1;33m]\u001b[0m \u001b[1;33m=\u001b[0m \u001b[1;33m(\u001b[0m\u001b[0my\u001b[0m\u001b[1;33m[\u001b[0m\u001b[1;33m:\u001b[0m\u001b[1;33m,\u001b[0m\u001b[0mi\u001b[0m\u001b[1;33m]\u001b[0m \u001b[1;33m+\u001b[0m \u001b[0mV\u001b[0m\u001b[1;33m*\u001b[0m\u001b[0mnp\u001b[0m\u001b[1;33m.\u001b[0m\u001b[0msin\u001b[0m\u001b[1;33m(\u001b[0m\u001b[0mtheta\u001b[0m\u001b[1;33m[\u001b[0m\u001b[1;33m:\u001b[0m\u001b[1;33m,\u001b[0m\u001b[0mi\u001b[0m\u001b[1;33m]\u001b[0m\u001b[1;33m)\u001b[0m\u001b[1;33m*\u001b[0m\u001b[0mdt\u001b[0m \u001b[1;33m+\u001b[0m\u001b[0ml\u001b[0m\u001b[1;33m)\u001b[0m \u001b[1;33m%\u001b[0m \u001b[1;33m(\u001b[0m\u001b[1;36m2\u001b[0m\u001b[1;33m*\u001b[0m\u001b[0ml\u001b[0m\u001b[1;33m)\u001b[0m \u001b[1;33m-\u001b[0m \u001b[0ml\u001b[0m\u001b[1;33m\u001b[0m\u001b[1;33m\u001b[0m\u001b[0m\n\u001b[0;32m     58\u001b[0m     \u001b[0mtheta\u001b[0m\u001b[1;33m[\u001b[0m\u001b[1;33m:\u001b[0m\u001b[1;33m,\u001b[0m\u001b[0mi\u001b[0m\u001b[1;33m+\u001b[0m\u001b[1;36m1\u001b[0m\u001b[1;33m]\u001b[0m \u001b[1;33m=\u001b[0m \u001b[0mtheta\u001b[0m\u001b[1;33m[\u001b[0m\u001b[1;33m:\u001b[0m\u001b[1;33m,\u001b[0m\u001b[0mi\u001b[0m\u001b[1;33m]\u001b[0m \u001b[1;33m+\u001b[0m \u001b[0mnp\u001b[0m\u001b[1;33m.\u001b[0m\u001b[0msqrt\u001b[0m\u001b[1;33m(\u001b[0m\u001b[1;36m2\u001b[0m\u001b[1;33m/\u001b[0m\u001b[0mTau\u001b[0m\u001b[1;33m)\u001b[0m\u001b[1;33m*\u001b[0m\u001b[0mnp\u001b[0m\u001b[1;33m.\u001b[0m\u001b[0mrandom\u001b[0m\u001b[1;33m.\u001b[0m\u001b[0mrandn\u001b[0m\u001b[1;33m(\u001b[0m\u001b[0mn\u001b[0m\u001b[1;33m)\u001b[0m\u001b[1;33m\u001b[0m\u001b[1;33m\u001b[0m\u001b[0m\n",
      "\u001b[1;31mIndexError\u001b[0m: index 10005 is out of bounds for axis 1 with size 10005"
     ]
    }
   ],
   "source": [
    "import numpy as np \n",
    "from numpy import arctan2 as atan2, sin, cos\n",
    "import matplotlib.pyplot as plt\n",
    "from IPython import display\n",
    "from scipy.constants import Boltzmann as kB \n",
    "from tkinter import *\n",
    "from tkinter import ttk\n",
    "from PIL import ImageGrab\n",
    "import time\n",
    "\n",
    "res = 700     # Resolution of the anymation \n",
    "tk = Tk()\n",
    "tk.geometry( str(int(res*1.1)) + 'x'  +  str(int(res*1.3)) )\n",
    "tk.configure(background='white')\n",
    "\n",
    "canvas = Canvas(tk, bd=2)            # Generate animation window \n",
    "tk.attributes('-topmost', 0)\n",
    "canvas.place(x=res/20, y=res/20, height= res, width= res)\n",
    "ccolor = ['#17888E', '#C1D02B', '#9E00C9', '#D80000', '#E87B00', '#9F68D3', '#4B934F']\n",
    "\n",
    "\n",
    "dynamic_T = Scale(tk, from_=-10, to=10, orient=HORIZONTAL, label='Sensorial Delay')\n",
    "dynamic_T.place(relx=.5, rely=.84, relheight= 0.12, relwidth= 0.2)\n",
    "dynamic_T.set(0)\n",
    "\n",
    "\n",
    "n = 50   # Number of particles \n",
    "R = 0.5\n",
    "r0 = 1\n",
    "l = 10\n",
    "N = 10005     # Simulation time\n",
    "dt = 0.02       # Time step \n",
    "V0 = 2\n",
    "Vinf = 0.05\n",
    "Tau = 2     # ROtational diffusion time scale\n",
    "I0 = 1\n",
    "x,y, theta = (np.random.rand(n,N)*2-1)*l, (np.random.rand(n,N)*2-1)*l, np.random.rand(n,N)*2*np.pi\n",
    "I = np.zeros((n,N))\n",
    "\n",
    "particles = []\n",
    "for j in range(n):     # Generate animated particles in Canvas \n",
    "    particles.append( canvas.create_oval( (x[j,0]-R + l)*res/l/2, \\\n",
    "                                          (y[j,0]-R + l)*res/2/l, \\\n",
    "                                          (x[j,0]+R + l)*res/l/2, \\\n",
    "                                          (y[j,0]+R + l)*res/l/2, \\\n",
    "                                          outline=ccolor[0], fill=ccolor[0]) )\n",
    "    \n",
    "for i in range(N):\n",
    "    delta = dynamic_T.get()\n",
    "    for j in range(n):\n",
    "        I[j,i] = np.sum(I0*np.exp((-(x[j,i]-x[:,i])**2-(y[j,i]-y[:,i])**2)/r0**2)) - I0\n",
    "    if delta>=0:\n",
    "        V = Vinf + (V0-Vinf)*np.exp(-I[:,i-delta])            \n",
    "    else:\n",
    "        V = Vinf + (V0-Vinf)*np.exp(-(I[:,i]-delta*(I[:,i]-I[:,i-1]))) \n",
    "    x[:,i+1] = (x[:,i] + V*np.cos(theta[:,i])*dt +l) % (2*l) - l\n",
    "    y[:,i+1] = (y[:,i] + V*np.sin(theta[:,i])*dt +l) % (2*l) - l\n",
    "    theta[:,i+1] = theta[:,i] + np.sqrt(2/Tau)*np.random.randn(n)\n",
    "    '''\n",
    "    if i == 5:\n",
    "        ImageGrab.grab().save('saved_' + str(delta) + '_a.png')\n",
    "    if i == 500:\n",
    "        ImageGrab.grab().save('saved_' + str(delta) + '_b.png')\n",
    "    if i == 10000:\n",
    "        ImageGrab.grab().save('saved_' + str(delta) + '_c.png')\n",
    "       ''' \n",
    "    \n",
    "    for j in range(n):\n",
    "        canvas.move(particles[j], (x[j,i+1]-x[j,i]) *res/l/2, (y[j,i+1]-y[j,i])*res/l/2)     # Updating animation coordinates\n",
    "    tk.title('t =' + str(round(i*dt*100)/100))          # Animation title \n",
    "    tk.update()                                         # Update animation frame \n",
    "    if i<10:\n",
    "        time.sleep(0.1)                                   # Wait between loops\n",
    "    \n",
    "Tk.mainloop(canvas)                                     # Release animation handle (close window to finish)    "
   ]
  },
  {
   "cell_type": "code",
   "execution_count": 5,
   "metadata": {},
   "outputs": [
    {
     "data": {
      "text/plain": [
       "10004"
      ]
     },
     "execution_count": 5,
     "metadata": {},
     "output_type": "execute_result"
    }
   ],
   "source": [
    "i"
   ]
  }
 ],
 "metadata": {
  "kernelspec": {
   "display_name": "Python 3",
   "language": "python",
   "name": "python3"
  },
  "language_info": {
   "codemirror_mode": {
    "name": "ipython",
    "version": 3
   },
   "file_extension": ".py",
   "mimetype": "text/x-python",
   "name": "python",
   "nbconvert_exporter": "python",
   "pygments_lexer": "ipython3",
   "version": "3.9.1"
  }
 },
 "nbformat": 4,
 "nbformat_minor": 4
}
